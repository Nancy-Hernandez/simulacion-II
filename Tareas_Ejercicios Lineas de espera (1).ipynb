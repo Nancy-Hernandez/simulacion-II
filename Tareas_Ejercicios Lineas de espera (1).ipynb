{
 "cells": [
  {
   "cell_type": "markdown",
   "metadata": {
    "id": "S-LNAfwdqPqu"
   },
   "source": [
    "# Líneas de espera "
   ]
  },
  {
   "cell_type": "markdown",
   "metadata": {
    "id": "xpuVUSecqPrq"
   },
   "source": [
    "#### Ejercicio: Simulación manual. (100322)\n",
    "\n",
    "1. Completar la tabla."
   ]
  },
  {
   "cell_type": "markdown",
   "metadata": {
    "id": "pcJtfZ1qqPrr"
   },
   "source": [
    "| Pkt No. |Tpll  |tps  |Tiempo de arribo|Inicio de servicio|Hora de salida|Tiempo en fila |Tiempo en el sistema  | Tamaño de cola t |Clientes en el sistema hasta t|\n",
    "|---------|-----|----|--------------|-------------------|----------------|---------------|-----------------|-----------|----------|\n",
    "| 1 |  2  | 12 |  2   |  2   |  14   |  0   |  12  | 0 | 1  |\n",
    "| 2 |  5  | 10 |  7   | 14   |  24   |  7   |  17  | 1 | 2  |\n",
    "| 3 |  1  | 16 |  8   | 24   |  40   | 16   |  32  | 2 | 3  |\n",
    "| 4 |  4  | 9  | 12   | 40   |  49   | 28   |  27  | 3 | 4  |\n",
    "| 5 |  1  | 10 | 13   | 49   |  59   | 36   |  46  | 4 | 5  |\n",
    "| 6 |  3  | 13 | 16   | 59   |  72   | 43   |  56  | 4 | 5  |\n",
    "| 7 |  3  | 17 | 19   | 72   |  89   | 53   |  70  | 5 | 6  |\n",
    "| 8 |  2  | 10 | 21   | 89   |  99   | 68   |  78  | 6 | 7  |\n",
    "| 9 |  4  | 8  | 25   | 99   |  107  | 74   |  82  | 6 | 7  |\n",
    "|10 |  5  | 12 | 30   |107   |  119  | 77   |  89  | 7 | 8  |"
   ]
  },
  {
   "cell_type": "markdown",
   "metadata": {
    "id": "yCw0xvntqPrs"
   },
   "source": [
    "#### Ejercicio: Continuación ... (170322)\n",
    "\n",
    "1. Agregar dos columnas a la tabla anterior: Tamaño de la cola despues de $t$ Clientes en el sistema después de $t$.\n",
    "2. Con la información de la tabla completa, determinar: $\\lambda$, $\\mu$, $L$ y $L_q$.\n"
   ]
  },
  {
   "cell_type": "code",
   "execution_count": null,
   "metadata": {},
   "outputs": [],
   "source": []
  },
  {
   "cell_type": "markdown",
   "metadata": {
    "id": "Rk_ubannqPru"
   },
   "source": [
    "### Tarea"
   ]
  },
  {
   "cell_type": "markdown",
   "metadata": {
    "id": "QbDM4cZ6qPrv"
   },
   "source": [
    "|  Cliente i:                       |  1 | 2 | 3 |4 |5 |6 |7 |8 |9 |10 | 11 | 12 |\n",
    "|-----------------------------------|----|---|---|--|--|--|--|--|--|---|----|----|\n",
    "|Tiempo de llegada entre i + 1 e i: |2   | 1 | 3 |1 |1 | 4|2 |5 |1 | 2 | 2  |    |\n",
    "|Tiempo de servicio al cliente:     | 1  | 3 | 6 |2 |1 | 1|4 | 2|5 |1  | 1  | 3  |"
   ]
  },
  {
   "cell_type": "markdown",
   "metadata": {
    "id": "LYs4nZ2DqPrw"
   },
   "source": [
    "1. Construir la tabla completa\n",
    "\n",
    "| t | Entrada/salida i| Ini serv i | Ter serv i |T en cola |T en sist | Tamaño de cola t |Clientes en el sistema hasta t|\n",
    "|---|-----------------|------------|------------|----------|----------|------------------|------------------------------|\n",
    "| 0 | 1-E |  0  |   1   |  0  |  1  |   0   |  1  |\n",
    "| 1 | 1-S |  -  |    -  |   - |  -  |   0   |  0  |\n",
    "| 2 | 1-E |  2  |   5   |  0  |  3  |   0   |  1  |\n",
    "| 3 | 1-E |  5  |   11  |  2  |  8  |   1   |  2  |\n",
    "| 5 | 1-S | -   | -     |  -  |  -  |   0   |  1  |\n",
    "| 6 | 1-E | 11  |   13  |  5  |  7  |   1   |  2  |\n",
    "| 7 | 1-E | 13  |   14  |  6  |  7  |   2   |  3  |\n",
    "| 8 | 1-E | 14  |   15  |  6  |  7  |   3   |  4  |\n",
    "| 11| 1-S | -   | -     | -   | -   |   2   |  3  |\n",
    "| 12| 1-E | 15  |   19  |  3  |  7  |   3   |  4  |\n",
    "| 13| 1-S | -   | -     | -   | -   |   2   |  3  |\n",
    "| 14| 1-S | -   | -     | -   | -   |   1   |  2  |\n",
    "| 14| 1-E | 19  |   21  |  5  |  7  |   2   |  3  |\n",
    "| 15| 1-S | -   | -     | -   | -   |   1   |  2  |\n",
    "| 19| 1-S | -   | -     | -   | -   |   0   |  1  |\n",
    "| 19| 1-E | 21  | 26    |  2  |  7  |   1   |  2  |\n",
    "| 20| 1-E | 26  | 27    |  6  |  7  |   2   |  3  |\n",
    "| 21| 1-S | -   | -     | -   | -   |   1   |  2  |\n",
    "| 22| 1-E | 27  | 28    |  5  |  6  |   2   |  3  |\n",
    "| 24| 1-E | 28  | 31    |  4  |  7  |   3   |  4  |\n",
    "| 26| 1-S | -   | -     | -   | -   |   2   |  3  |\n",
    "| 27| 1-S | -   | -     | -   | -   |   1   |  2  |\n",
    "| 28| 1-S | -   | -     | -   | -   |   0   |  1  |\n",
    "| 31| 1-S | -   | -     | -   | -   |   0   |  0  |  \n"
   ]
  },
  {
   "cell_type": "markdown",
   "metadata": {
    "id": "z-nvvBUwqPry"
   },
   "source": [
    "### Para construir la simulación"
   ]
  },
  {
   "cell_type": "markdown",
   "metadata": {
    "id": "3QZDrU-bqPrz"
   },
   "source": [
    "#### Variables:\n",
    "\n",
    "1. Variable de tiempo $t$: tiempo (simulado) transcurrido.\n",
    "\n",
    "2. Variables de conteo: número de veces que ciertos eventos han ocurrido, hasta el instante $t$.\n",
    "    \n",
    "3. Variables de estado del sistema (ES): Describen el estado del sistema en el instante $t$."
   ]
  },
  {
   "cell_type": "markdown",
   "metadata": {
    "id": "Bqi-FKcjqPr1"
   },
   "source": [
    "Subrutina para generar $T_s$, el tiempo de la primera llegada después del instante s."
   ]
  },
  {
   "cell_type": "markdown",
   "metadata": {
    "id": "LcS9zG9xqPr3"
   },
   "source": [
    "Paso 1: Sea $t = s$.\n",
    "\n",
    "Paso 2: Generar $U$.\n",
    "\n",
    "Paso 3: Sea $t = t - \\frac{1}{\\lambda} logU$.\n",
    "\n",
    "Paso 4: Generar $U$.\n",
    "\n",
    "Paso 5: Si $U \\leq \\frac{\\lambda(t)}{\\lambda}$, hacer $T_s = t$ y terminar.\n",
    "\n",
    "Paso 6: Ir al paso 2."
   ]
  },
  {
   "cell_type": "markdown",
   "metadata": {
    "id": "ufRe9TqGqPr4"
   },
   "source": [
    "### Ejercicio (080322):\n",
    "\n",
    "1. Escribir el código para la subrutina que genera $T_s$."
   ]
  },
  {
   "cell_type": "code",
   "execution_count": null,
   "metadata": {},
   "outputs": [],
   "source": [
    "from math import log\n",
    "from random import random\n",
    "\n",
    "t=s\n",
    "\n"
   ]
  },
  {
   "cell_type": "code",
   "execution_count": null,
   "metadata": {
    "id": "KFQtDMWLqPr6"
   },
   "outputs": [],
   "source": []
  },
  {
   "cell_type": "code",
   "execution_count": null,
   "metadata": {
    "id": "d08zoCTOqPr-"
   },
   "outputs": [],
   "source": []
  },
  {
   "cell_type": "markdown",
   "metadata": {
    "id": "f6brqiQaqPsE"
   },
   "source": [
    "### Línea de espera con un servidor"
   ]
  },
  {
   "cell_type": "markdown",
   "metadata": {
    "id": "d-uP0Y7JqPsF"
   },
   "source": [
    "Se requieren las siguientes variables:\n",
    "\n",
    "1. Variable de tiempo: $t$.\n",
    "\n",
    "2. Variables de conteo: \n",
    "\n",
    "$N_A$: tiempo de llegadas hasta $t$.\n",
    "                        \n",
    "$N_D$: número de salidas hasta $t$.\n",
    "\n",
    "3. Variables de estado del sistema:  $n$: número de clientes en el sistema en el instante $t$.\n",
    "\n",
    "Lista de eventos: $t_A, t_D$, llegadas y salidas."
   ]
  },
  {
   "cell_type": "markdown",
   "metadata": {
    "id": "Fzp8gM7yqPsG"
   },
   "source": [
    "### Inicialización:"
   ]
  },
  {
   "cell_type": "markdown",
   "metadata": {
    "id": "25f8j2KMqPsH"
   },
   "source": [
    "Sea $t = N_A = N_D = 0$.\n",
    "\n",
    "Sea ES = 0.\n",
    "\n",
    "Generar $T_0$ y hacer $t_A = T_0, t_D = \\infty$"
   ]
  },
  {
   "cell_type": "markdown",
   "metadata": {
    "id": "TUDjoHTWqPsI"
   },
   "source": [
    "### Tarea: Codificar inicialización y casos (pp. 89-91)"
   ]
  },
  {
   "cell_type": "code",
   "execution_count": 51,
   "metadata": {
    "colab": {
     "base_uri": "https://localhost:8080/",
     "height": 252
    },
    "id": "rfJv3xw6VWpp",
    "outputId": "f7810e4e-262b-4c85-f2a6-d1f62c2b030d"
   },
   "outputs": [],
   "source": [
    "from random import expovariate\n",
    "from math import inf as Infinity\n",
    "lamb=1.2\n",
    "mu=0.8\n",
    "T=30    #Tiempo total de simulacón\n",
    "t=0\n",
    "Na=0    # Número de llegadas (hasta el instante t)\n",
    "Nd=0    # Número de salidas (hasta el instante t)\n",
    "n=0     # Número de clientes (en el instante t)\n",
    "ES=0\n",
    "LE=[]   # Lista de Eventos(ta/td)\n",
    "ta=expovariate(lamb)    # Hora de la siguiente llegada\n",
    "td=Infinity # Hora en la que concluye el servicio del cliente que esta siendo atendido\n",
    "\n",
    "\n",
    "while t <= T:\n",
    "  #Caso 1 ta<=td,ta<=T\n",
    "  if ta <= td:\n",
    "    t=ta\n",
    "    Na=Na+1\n",
    "    n=n+1\n",
    "    LE.append(ta)\n",
    "    ta=t+expovariate(lamb)\n",
    "    \n",
    "    if n==1:\n",
    "        td=t+expovariate(mu)\n",
    "  #Caso 2 td<ta, td<=T\n",
    "  if td<ta:\n",
    "    t=td\n",
    "    n=n-1\n",
    "    LE.append(td)\n",
    "    Nd=Nd+1\n",
    "    if n==0:\n",
    "        td=Infiniy\n",
    "    else:\n",
    "        td=t+expovariate(mu)\n",
    "  #Caso 3 min(ta, td)>T, n>0\n",
    "  if min(ta,t)>T:\n",
    "    t=td\n",
    "    n=n-1\n",
    "    Nd=Nd+1\n",
    "    if n>0:\n",
    "        td=t+expovariate(mu)\n",
    "    if n==0:                 #Caso 4 min(ta, td)>T, n=0\n",
    "        Tp=max(t-T,0)\n"
   ]
  },
  {
   "cell_type": "markdown",
   "metadata": {
    "id": "YpyogRWcqPsP"
   },
   "source": [
    "### Estimación del tiempo promedio de respuesta del sistema"
   ]
  },
  {
   "cell_type": "code",
   "execution_count": 27,
   "metadata": {
    "id": "8XtcTrMRqPsR"
   },
   "outputs": [],
   "source": [
    "from random import expovariate\n",
    "from statistics import mean \n",
    "from math import inf as Infinity\n",
    "\n",
    "# Parametros\n",
    "\n",
    "def w(lamda,mu):\n",
    "    Num_Pkts = 100000                   # Numero de paquetes a simular\n",
    "    #T = 100000\n",
    "    count = 0                           # Contador de paquetes simulados\n",
    "    t = 0\n",
    "    N = 0                               # Variable de estado: numero de paquetes en el sistema\n",
    "\n",
    "    tll = expovariate(lamda)            # Tiempo de llegada\n",
    "    ts = Infinity                       # Tiempo de salida\n",
    "\n",
    "    # Variables de salida\n",
    "    tll_Data = []                       # Lista de tiempos de llegada\n",
    "    ts_Data = []                        # Lista de tiempos de salida\n",
    "    r_Data = []                         # Lista de retrasos individuales\n",
    "\n",
    "    while count < Num_Pkts:\n",
    "    #while t < T:\n",
    "        if tll < ts:                           # Evento de llegada\n",
    "            t = tll\n",
    "            tll_Data.append(t)\n",
    "            N = N + 1.0\n",
    "            tll = t + expovariate(lamda) \n",
    "            if N == 1:\n",
    "                ts = t + expovariate(mu)\n",
    "        else:                                         # Evento de salida\n",
    "            t = ts \n",
    "            ts_Data.append(t)\n",
    "            N = N - 1.0\n",
    "            count = count + 1                         # Paquetes simulados\n",
    "            if N > 0:\n",
    "                ts = t + expovariate(mu)\n",
    "            else:\n",
    "                ts = Infinity\n",
    "\n",
    "    # Estimación del retraso promedio:\n",
    "\n",
    "    for i in range(Num_Pkts):\n",
    "    #for i in range(T):\n",
    "        d = ts_Data[i] - tll_Data[i]\n",
    "        r_Data.append(d)\n",
    "    w=round(mean(r_Data), 4)\n",
    "    \n",
    "    return w"
   ]
  },
  {
   "cell_type": "markdown",
   "metadata": {},
   "source": [
    "### Tarea: Graficar los datos de salida del código anterior"
   ]
  },
  {
   "cell_type": "code",
   "execution_count": 38,
   "metadata": {},
   "outputs": [
    {
     "name": "stdout",
     "output_type": "stream",
     "text": [
      " w promedio =  0.4996\n"
     ]
    },
    {
     "data": {
      "image/png": "[encoded data removed]",
      "text/plain": [
       "<Figure size 1152x576 with 1 Axes>"
      ]
     },
     "metadata": {
      "needs_background": "light"
     },
     "output_type": "display_data"
    }
   ],
   "source": [
    "from random import seed\n",
    "num_repet=100\n",
    "Dlay=[]\n",
    "for i in range(num_repet):\n",
    "    seed()\n",
    "    d=w(lamda, mu)\n",
    "    Dlay.append(d)\n",
    "\n",
    "# Estimación del promedio de las repeticiones\n",
    "fig=figure(3, figsize=(16,8))\n",
    "plot(Dlay, linewidth=2)\n",
    "xlabel('Número de experimento')\n",
    "ylabel('w del experimento')\n",
    "\n",
    "print(' w promedio = ', round(mean(Dlay), 4))"
   ]
  },
  {
   "cell_type": "markdown",
   "metadata": {},
   "source": [
    "### Tarea:\n",
    "\n",
    "Convierta los códigos vistos en clase para determinar W, L y P(N=k) en una función y usela para resolver los ejercicios propuestos (más tarde por classroom)"
   ]
  },
  {
   "cell_type": "code",
   "execution_count": 32,
   "metadata": {},
   "outputs": [],
   "source": [
    "from random import expovariate\n",
    "from statistics import mean \n",
    "from math import inf as Infinity\n",
    "from matplotlib.pyplot import *\n",
    "\n",
    "\n",
    "def WLP(lamda,mu, k):\n",
    "        # Parametros\n",
    "\n",
    "    Num_Pkts = 100000                   # Numero de paquetes a simular\n",
    "    #T = 100000\n",
    "    count = 0                           # Contador de paquetes simulados\n",
    "    t = 0\n",
    "    N = 0                               # Variable de estado: numero de paquetes en el sistema\n",
    "\n",
    "    tll = expovariate(lamda)            # Tiempo de llegada\n",
    "    ts = Infinity                       # Tiempo de salida\n",
    "\n",
    "    t_evento_anterior = 0.0             # tiempo del último evento ****************Nuevas líneas de código***********\n",
    "\n",
    "\n",
    "    # Variables de salida\n",
    "    tll_Data = []                       # Lista de tiempos de llegada\n",
    "    ts_Data = []                        # Lista de tiempos de salida\n",
    "    r_Data = []                         # Lista de retrasos individuales\n",
    "    Area = []                           # Area de escalón ***********************************************************\n",
    "    Data = {}                           # Diccionario \n",
    "    \n",
    "    while count < Num_Pkts:\n",
    "    #while t < T:\n",
    "        if tll < ts:                           # Evento de llegada\n",
    "            t = tll\n",
    "            # longitud del intervalo entre llegadas \n",
    "            delta=t-t_evento_anterior\n",
    "            if N in Data:\n",
    "                Data[N]+= delta\n",
    "            else:\n",
    "                Data[N]=delta       \n",
    "            \n",
    "            # Area del escalón ***********************************************************************************\n",
    "            Area.append((t - t_evento_anterior)*N)\n",
    "            t_evento_anterior = t\n",
    "            \n",
    "            tll_Data.append(t)\n",
    "            N = N + 1.0\n",
    "            tll = t + expovariate(lamda) \n",
    "            if N == 1:\n",
    "                ts = t + expovariate(mu)\n",
    "        else:                                         # Evento de salida\n",
    "            t = ts\n",
    "            \n",
    "            #Longitud de intervalo de tiempo********************\n",
    "            delta=t-t_evento_anterior\n",
    "            if N in Data:\n",
    "                Data[N] += delta\n",
    "            else:\n",
    "                Data[N] = delta\n",
    "            # Area del escalón ***********************************************************************************\n",
    "            Area.append((t - t_evento_anterior)*N)\n",
    "            t_evento_anterior = t\n",
    "\n",
    "            ts_Data.append(t)\n",
    "            N = N - 1.0\n",
    "            count = count + 1                         # Paquetes simulados\n",
    "            if N > 0:\n",
    "                ts = t + expovariate(mu)\n",
    "            else:\n",
    "                ts = Infinity\n",
    "\n",
    "###########################Se procesan los datos de salida#########################\n",
    "\n",
    "    # Estimación del retraso promedio:\n",
    "\n",
    "    for i in range(Num_Pkts):\n",
    "    #for i in range(T):\n",
    "        d = ts_Data[i] - tll_Data[i]\n",
    "        r_Data.append(d)\n",
    "    w=round( mean(r_Data), 4)\n",
    "    L=round(sum(Area)/t, 4)\n",
    "\n",
    "    # Estimación de la probabilidad de P(N=k):\n",
    "    for (key, value) in Data.items():\n",
    "        Data[key] = value/t\n",
    "    \n",
    "    \n",
    "    return w, L, k, Data[k]"
   ]
  },
  {
   "cell_type": "code",
   "execution_count": 33,
   "metadata": {},
   "outputs": [
    {
     "name": "stdout",
     "output_type": "stream",
     "text": [
      "(0.5172, 2.0672, 3, 0.0979790937936871)\n"
     ]
    }
   ],
   "source": [
    "print(WLP(4,6,3))"
   ]
  },
  {
   "cell_type": "code",
   "execution_count": null,
   "metadata": {},
   "outputs": [],
   "source": []
  }
 ],
 "metadata": {
  "colab": {
   "name": "Copia de Simulacion de un sistema de linea de espera.ipynb",
   "provenance": []
  },
  "kernelspec": {
   "display_name": "Python 3 (ipykernel)",
   "language": "python",
   "name": "python3"
  },
  "language_info": {
   "codemirror_mode": {
    "name": "ipython",
    "version": 3
   },
   "file_extension": ".py",
   "mimetype": "text/x-python",
   "name": "python",
   "nbconvert_exporter": "python",
   "pygments_lexer": "ipython3",
   "version": "3.9.8"
  }
 },
 "nbformat": 4,
 "nbformat_minor": 1
}
