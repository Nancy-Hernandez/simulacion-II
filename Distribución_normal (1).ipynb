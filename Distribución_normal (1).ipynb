{
  "nbformat": 4,
  "nbformat_minor": 0,
  "metadata": {
    "colab": {
      "name": "Distribución normal.ipynb",
      "provenance": [],
      "collapsed_sections": []
    },
    "kernelspec": {
      "name": "python3",
      "display_name": "Python 3"
    },
    "language_info": {
      "name": "python"
    }
  },
  "cells": [
    {
      "cell_type": "markdown",
      "source": [
        "### **Ejercicio:**\n",
        "\n",
        "\n",
        "*   Elegir al azar una ciudad de la Lista despues de hacer una mezcla.\n",
        "\n",
        "*   Elegir al azar tres ciudades después de una mezcla.\n"
      ],
      "metadata": {
        "id": "PwNKY-YCMUlh"
      }
    },
    {
      "cell_type": "code",
      "execution_count": null,
      "metadata": {
        "colab": {
          "base_uri": "https://localhost:8080/"
        },
        "id": "Xfon1_RiJOJ-",
        "outputId": "df010e8a-35df-4646-c802-5de0fe0e6015"
      },
      "outputs": [
        {
          "output_type": "stream",
          "name": "stdout",
          "text": [
            "La ciudad elegida es -  Tokio\n",
            "['London', 'Toronto', 'Moskov']\n"
          ]
        }
      ],
      "source": [
        "import random\n",
        "import numpy as np\n",
        "import matplotlib.pyplot as plt\n",
        "Lista = ['Rome','New York','London','Berlin','Moskov', 'Los Angeles','Paris','Madrid','Tokio','Toronto']\n",
        "random.shuffle(Lista)\n",
        "\n",
        "print (\"La ciudad elegida es - \", random.choice(Lista) )\n",
        "print(random.sample(Lista, 3))"
      ]
    },
    {
      "cell_type": "markdown",
      "source": [
        "### **Ejercicio:**\n",
        "\n",
        "Generar muestras e histograma de las funciones: \n",
        "\n",
        "1.   triangular()\n",
        "2.   betavariate()\n",
        "3.   expovariate()\n",
        "4.   gammavariate()\n",
        "5.   lognormvariate()\n",
        "6.   normalvariate()\n",
        "7.   vonmisesvariate()\n",
        "8.   paretovariate() \n",
        "9.   weibullvariate()"
      ],
      "metadata": {
        "id": "OF3DCABfOn4m"
      }
    },
    {
      "cell_type": "markdown",
      "source": [
        "La función **random.triangular** devuelve un número aleatorio N extraído de una distribución triangular tal que low <= N <= high, con la moda especificada en el tercer argumento, mode.\n",
        "\n",
        "Si no se especifica el argumento mode, éste toma por defecto el valor (low + high) / 2, es decir, el valor situado en el punto medio del rango considerado."
      ],
      "metadata": {
        "id": "XDtEurHbacJc"
      }
    },
    {
      "cell_type": "code",
      "source": [
        "nums = []\n",
        "low = 0\n",
        "high = 10\n",
        "mode = 4\n",
        "for i in range(10000):\n",
        "    temp = random.triangular(low, high, mode)\n",
        "    nums.append(temp)\n",
        "\n",
        "plt.hist(nums, bins = 200)\n",
        "plt.show()"
      ],
      "metadata": {
        "colab": {
          "base_uri": "https://localhost:8080/",
          "height": 265
        },
        "id": "VsyzZw32Ot5n",
        "outputId": "31c7cdb5-94a0-4046-a685-4fad65c08833"
      },
      "execution_count": null,
      "outputs": [
        {
          "output_type": "display_data",
          "data": {
            "image/png": "[encoded data removed]",
            "text/plain": [
              "<Figure size 432x288 with 1 Axes>"
            ]
          },
          "metadata": {
            "needs_background": "light"
          }
        }
      ]
    },
    {
      "cell_type": "markdown",
      "source": [
        "La función **random.betavariate** devuelve un número aleatorio en el rango (0, 1) extraído de una distribución beta"
      ],
      "metadata": {
        "id": "YJI_jxSPdChp"
      }
    },
    {
      "cell_type": "code",
      "source": [
        "nums = []\n",
        "alpha= 5\n",
        "beta = 10\n",
        "\n",
        "  \n",
        "for i in range(10000):\n",
        "    temp = random.betavariate(alpha,beta)\n",
        "    nums.append(temp)\n",
        "      \n",
        "plt.hist(nums, bins=200)\n",
        "plt.show()"
      ],
      "metadata": {
        "colab": {
          "base_uri": "https://localhost:8080/",
          "height": 265
        },
        "id": "dT1t3DpWQ7BJ",
        "outputId": "abddd3f2-5baa-410e-ff70-c54275f80563"
      },
      "execution_count": null,
      "outputs": [
        {
          "output_type": "display_data",
          "data": {
            "image/png": "[encoded data removed]",
            "text/plain": [
              "<Figure size 432x288 with 1 Axes>"
            ]
          },
          "metadata": {
            "needs_background": "light"
          }
        }
      ]
    },
    {
      "cell_type": "markdown",
      "source": [
        "**expovariate()** es un método incorporado del módulo random. Se utiliza para devolver un número de coma flotante aleatorio con distribución exponencial."
      ],
      "metadata": {
        "id": "hUOxhtfgdZF8"
      }
    },
    {
      "cell_type": "code",
      "source": [
        "nums = []\n",
        "lamb= 1.5\n",
        "  \n",
        "for i in range(10000):\n",
        "    temp = random.expovariate(lamb)\n",
        "    nums.append(temp)\n",
        "      \n",
        "plt.hist(nums, bins=200)\n",
        "plt.show()"
      ],
      "metadata": {
        "colab": {
          "base_uri": "https://localhost:8080/",
          "height": 265
        },
        "id": "S0HaDZ3XSpUD",
        "outputId": "c7d749c0-be37-421b-df74-75fde8278969"
      },
      "execution_count": null,
      "outputs": [
        {
          "output_type": "display_data",
          "data": {
            "image/png": "[encoded data removed]",
            "text/plain": [
              "<Figure size 432x288 with 1 Axes>"
            ]
          },
          "metadata": {
            "needs_background": "light"
          }
        }
      ]
    },
    {
      "cell_type": "markdown",
      "source": [
        "**gammavariate()** es un método incorporado del módulo random. Se utiliza para devolver un número de coma flotante aleatorio con distribución gamma."
      ],
      "metadata": {
        "id": "S4bjoPXNd3tU"
      }
    },
    {
      "cell_type": "code",
      "source": [
        "nums = [] \n",
        "alpha = 9\n",
        "beta = 0.5\n",
        "    \n",
        "for i in range(10000): \n",
        "    temp = random.gammavariate(alpha, beta)\n",
        "    nums.append(temp)\n",
        "  \n",
        "plt.hist(nums, bins=200)\n",
        "plt.show()"
      ],
      "metadata": {
        "colab": {
          "base_uri": "https://localhost:8080/",
          "height": 265
        },
        "id": "vHz_94wqYaYo",
        "outputId": "0a3f7b5a-82c3-4c0f-8156-d6f24c9a0df6"
      },
      "execution_count": null,
      "outputs": [
        {
          "output_type": "display_data",
          "data": {
            "image/png": "[encoded data removed]",
            "text/plain": [
              "<Figure size 432x288 with 1 Axes>"
            ]
          },
          "metadata": {
            "needs_background": "light"
          }
        }
      ]
    },
    {
      "cell_type": "markdown",
      "source": [
        "**gammavariate()** es un método incorporado del módulo. Se utiliza para devolver un número de coma flotante aleatorio con distribución gamma."
      ],
      "metadata": {
        "id": "wnxvCIpYeTzt"
      }
    },
    {
      "cell_type": "code",
      "source": [
        "nums = [] \n",
        "mu = 0\n",
        "sigma = 0.25\n",
        "    \n",
        "for i in range(10000): \n",
        "    temp = random.lognormvariate(mu, sigma)\n",
        "    nums.append(temp) \n",
        "\n",
        "plt.hist(nums, bins=200)\n",
        "plt.show()"
      ],
      "metadata": {
        "colab": {
          "base_uri": "https://localhost:8080/",
          "height": 265
        },
        "id": "DhFZqnOGYhhH",
        "outputId": "20dfffcc-4ab9-4a60-81ef-cc47fb5be028"
      },
      "execution_count": null,
      "outputs": [
        {
          "output_type": "display_data",
          "data": {
            "image/png": "[encoded data removed]",
            "text/plain": [
              "<Figure size 432x288 with 1 Axes>"
            ]
          },
          "metadata": {
            "needs_background": "light"
          }
        }
      ]
    },
    {
      "cell_type": "markdown",
      "source": [
        "**normalvariate()** es un método incorporado del módulo. Se utiliza para devolver un número de coma flotante aleatorio con distribución normal."
      ],
      "metadata": {
        "id": "Urygmc-vfGeb"
      }
    },
    {
      "cell_type": "code",
      "source": [
        "nums = [] \n",
        "mu = 100\n",
        "sigma = 50\n",
        "    \n",
        "for i in range(10000): \n",
        "    temp = random.normalvariate(mu, sigma)\n",
        "    nums.append(temp) \n",
        "\n",
        "plt.hist(nums, bins=200)\n",
        "plt.show()\n",
        "        "
      ],
      "metadata": {
        "colab": {
          "base_uri": "https://localhost:8080/",
          "height": 265
        },
        "id": "VOlFLAgOZA2s",
        "outputId": "934c952d-be45-4ad6-bc85-174c92353ee9"
      },
      "execution_count": null,
      "outputs": [
        {
          "output_type": "display_data",
          "data": {
            "image/png": "[encoded data removed]",
            "text/plain": [
              "<Figure size 432x288 with 1 Axes>"
            ]
          },
          "metadata": {
            "needs_background": "light"
          }
        }
      ]
    },
    {
      "cell_type": "markdown",
      "source": [
        "**vonmisesvariate()** es un método incorporado del módulo. Se utiliza para devolver un número de coma flotante aleatorio con distribución de von Mises o distribución normal circular."
      ],
      "metadata": {
        "id": "XorIlMKqfT0Q"
      }
    },
    {
      "cell_type": "code",
      "source": [
        "nums = [] \n",
        "mu = 0\n",
        "kappa = 4\n",
        "    \n",
        "for i in range(10000): \n",
        "    temp = random.vonmisesvariate(mu, kappa) \n",
        "    nums.append(temp) \n",
        "        \n",
        "plt.hist(nums, bins = 200) \n",
        "plt.show()"
      ],
      "metadata": {
        "colab": {
          "base_uri": "https://localhost:8080/",
          "height": 265
        },
        "id": "tYU8ViZ4ZZz1",
        "outputId": "4b6ce631-e8a9-4c70-b6da-32fa0536f975"
      },
      "execution_count": null,
      "outputs": [
        {
          "output_type": "display_data",
          "data": {
            "image/png": "[encoded data removed]",
            "text/plain": [
              "<Figure size 432x288 with 1 Axes>"
            ]
          },
          "metadata": {
            "needs_background": "light"
          }
        }
      ]
    },
    {
      "cell_type": "markdown",
      "source": [
        "**paretovariate()** es un método incorporado del módulo. Se utiliza para devolver un número de coma flotante aleatorio con distribución de Pareto."
      ],
      "metadata": {
        "id": "j0fdmkh-f6of"
      }
    },
    {
      "cell_type": "code",
      "source": [
        "nums = [] \n",
        "alpha = 3\n",
        "    \n",
        "for i in range(10000): \n",
        "    temp = random.paretovariate(alpha) \n",
        "    nums.append(temp) \n",
        "        \n",
        "plt.hist(nums, bins = 200) \n",
        "plt.show()"
      ],
      "metadata": {
        "colab": {
          "base_uri": "https://localhost:8080/",
          "height": 265
        },
        "id": "Pqap696QZtPp",
        "outputId": "674a96e1-519d-44ef-88fe-3771bd47eddf"
      },
      "execution_count": null,
      "outputs": [
        {
          "output_type": "display_data",
          "data": {
            "image/png": "[encoded data removed]",
            "text/plain": [
              "<Figure size 432x288 with 1 Axes>"
            ]
          },
          "metadata": {
            "needs_background": "light"
          }
        }
      ]
    },
    {
      "cell_type": "markdown",
      "source": [
        "***weibullvariate()*** es un método incorporado del módulo. Se utiliza para devolver un número de coma flotante aleatorio con distribución de Weibull."
      ],
      "metadata": {
        "id": "3jKRD9ljgMDz"
      }
    },
    {
      "cell_type": "code",
      "source": [
        "nums = [] \n",
        "alpha = 1\n",
        "beta = 1.5\n",
        "    \n",
        "for i in range(10000): \n",
        "    temp = random.weibullvariate(alpha, beta) \n",
        "    nums.append(temp) \n",
        "        \n",
        "plt.hist(nums, bins = 200) \n",
        "plt.show()"
      ],
      "metadata": {
        "colab": {
          "base_uri": "https://localhost:8080/",
          "height": 265
        },
        "id": "rpz6gHNkaU8H",
        "outputId": "de686220-73f8-4620-ae57-15d4d88bfb24"
      },
      "execution_count": null,
      "outputs": [
        {
          "output_type": "display_data",
          "data": {
            "image/png": "[encoded data removed]",
            "text/plain": [
              "<Figure size 432x288 with 1 Axes>"
            ]
          },
          "metadata": {
            "needs_background": "light"
          }
        }
      ]
    },
    {
      "cell_type": "markdown",
      "source": [
        "## **TAREA:**\n",
        "\n",
        "1.   Elaborar un código en Python para generar una distribución normal por el método de las doce uniformes (usar la función random( )). \n",
        "2.   Hacer el histograma y comparar con el generado por la función gauss( ).\n",
        "\n"
      ],
      "metadata": {
        "id": "rhR1b_NxgZ_c"
      }
    },
    {
      "cell_type": "code",
      "source": [
        "import random\n",
        "\n",
        "def doceuniform(mu,sig,nr):\n",
        "\n",
        "  R=[]\n",
        "  l=[]\n",
        "    \n",
        "  for i in range(nr):\n",
        "      for i in range(12):\n",
        "          r=random.random()\n",
        "          R.append(r)\n",
        "      x=mu+(sig*(sum(R)-6))\n",
        "      l.append(x)\n",
        "      R.clear()\n",
        "  return l\n",
        "\n",
        "plt.hist(doceuniform(180, 15, 10000), bins = 200) \n",
        "plt.title(\"Distribución normal (Las doce uniformes)\")\n",
        "plt.show()\n",
        "\n",
        "nums = []\n",
        "mu = 180\n",
        "sigma = 15\n",
        "\n",
        "for i in range(10000):\n",
        "    temp = random.gauss(mu, sigma)\n",
        "    nums.append(temp)\n",
        "\n",
        "plt.hist(nums, bins = 200, color='purple')\n",
        "plt.title(\"Distribución normal (funsión de gauss)\")\n",
        "plt.show()\n"
      ],
      "metadata": {
        "colab": {
          "base_uri": "https://localhost:8080/",
          "height": 545
        },
        "id": "TVTicIEng3af",
        "outputId": "0cda360e-4074-4ac3-fdbb-a2ad31a60073"
      },
      "execution_count": null,
      "outputs": [
        {
          "output_type": "display_data",
          "data": {
            "image/png": "[encoded data removed]",
            "text/plain": [
              "<Figure size 432x288 with 1 Axes>"
            ]
          },
          "metadata": {
            "needs_background": "light"
          }
        },
        {
          "output_type": "display_data",
          "data": {
            "image/png": "[encoded data removed]",
            "text/plain": [
              "<Figure size 432x288 with 1 Axes>"
            ]
          },
          "metadata": {
            "needs_background": "light"
          }
        }
      ]
    }
  ]
}