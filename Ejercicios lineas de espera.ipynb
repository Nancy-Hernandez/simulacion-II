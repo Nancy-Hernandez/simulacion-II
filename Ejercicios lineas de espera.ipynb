{
 "cells": [
  {
   "cell_type": "markdown",
   "id": "997f09af",
   "metadata": {},
   "source": [
    "### Tarea:\n",
    "\n",
    "Convierta los códigos vistos en clase para determinar W, L y P(N=k) en una función y usela para resolver los ejercicios propuestos (más tarde por classroom)"
   ]
  },
  {
   "cell_type": "code",
   "execution_count": 4,
   "id": "2270224a",
   "metadata": {},
   "outputs": [],
   "source": [
    "from random import expovariate\n",
    "from statistics import mean \n",
    "from math import inf as Infinity\n",
    "from matplotlib.pyplot import *\n",
    "\n",
    "\n",
    "def WL(lamda,mu):\n",
    "        # Parametros\n",
    "\n",
    "    Num_Pkts = 100000                   # Numero de paquetes a simular\n",
    "    #T = 100000\n",
    "    count = 0                           # Contador de paquetes simulados\n",
    "    t = 0\n",
    "    N = 0                               # Variable de estado: numero de paquetes en el sistema\n",
    "\n",
    "    tll = expovariate(lamda)            # Tiempo de llegada\n",
    "    ts = Infinity                       # Tiempo de salida\n",
    "\n",
    "    t_evento_anterior = 0.0             # tiempo del último evento ****************Nuevas líneas de código***********\n",
    "\n",
    "\n",
    "    # Variables de salida\n",
    "    tll_Data = []                       # Lista de tiempos de llegada\n",
    "    ts_Data = []                        # Lista de tiempos de salida\n",
    "    r_Data = []                         # Lista de retrasos individuales\n",
    "    Area = []                           # Area de escalón ***********************************************************\n",
    "   \n",
    "    while count < Num_Pkts:\n",
    "    #while t < T:\n",
    "        if tll < ts:                           # Evento de llegada\n",
    "            t = tll\n",
    "            tll_Data.append(t)     \n",
    "            \n",
    "            # Area del escalón ***********************************************************************************\n",
    "            Area.append((t - t_evento_anterior)*N)\n",
    "            t_evento_anterior = t\n",
    "            \n",
    "            \n",
    "            N = N + 1.0\n",
    "            tll = t + expovariate(lamda) \n",
    "            if N == 1:\n",
    "                ts = t + expovariate(mu)\n",
    "        else:                                         # Evento de salida\n",
    "            t = ts\n",
    "            ts_Data.append(t)\n",
    "           \n",
    "            # Area del escalón ***********************************************************************************\n",
    "            Area.append((t - t_evento_anterior)*N)\n",
    "            t_evento_anterior = t\n",
    "\n",
    "            \n",
    "            N = N - 1.0\n",
    "            count = count + 1                         # Paquetes simulados\n",
    "            if N > 0:\n",
    "                ts = t + expovariate(mu)\n",
    "            else:\n",
    "                ts = Infinity\n",
    "\n",
    "###########################Se procesan los datos de salida#########################\n",
    "\n",
    "    # Estimación del retraso promedio:\n",
    "\n",
    "    for i in range(Num_Pkts):\n",
    "    #for i in range(T):\n",
    "        d = ts_Data[i] - tll_Data[i]\n",
    "        r_Data.append(d)\n",
    "    w=round( mean(r_Data), 4)\n",
    "    L=round(sum(Area)/t, 4)\n",
    "\n",
    "    \n",
    "    return [w,L]"
   ]
  },
  {
   "cell_type": "code",
   "execution_count": 18,
   "id": "14edded2",
   "metadata": {},
   "outputs": [],
   "source": [
    "from random import expovariate\n",
    "from statistics import mean\n",
    "from math import inf as Infinity\n",
    "from random import seed\n",
    "from matplotlib.pyplot import *\n",
    "\n",
    "def P(lamda, mu, k):\n",
    "    # Parametros\n",
    "\n",
    "\n",
    "    Num_Pkts = 100000                   # Numero de paquetes a simular\n",
    "    #T = 100000\n",
    "    count = 0                           # Contador de paquetes simulados\n",
    "    t = 0\n",
    "    N = 0                               # Variable de estado: numero de paquetes en el sistema\n",
    "\n",
    "    tll = expovariate(lamda)            # Tiempo de llegada\n",
    "    ts = Infinity                       # Tiempo de salida\n",
    "    t_evento_anterior = 0.0             # tiempo del último evento ****************Nuevas líneas de código***********\n",
    "\n",
    "    # Variables de salida\n",
    "    tll_Data = []                       # Lista de tiempos de llegada\n",
    "    ts_Data = []                        # Lista de tiempos de salida\n",
    "    r_Data = []                         # Lista de retrasos individuales\n",
    "\n",
    "    Data = {}                           # Diccionario *****************************************************************\n",
    "\n",
    "    while count < Num_Pkts:\n",
    "    #while t < T:\n",
    "        if tll < ts:                           # Evento de llegada\n",
    "            t = tll\n",
    "\n",
    "            # longitud del intervalo entre llegadas *********************************************************************\n",
    "            delta = t - t_evento_anterior\n",
    "            if N in Data: \n",
    "                Data[N] += delta\n",
    "            else:\n",
    "                Data[N] = delta\n",
    "            t_evento_anterior = t\n",
    "\n",
    "            tll_Data.append(t)\n",
    "            N = N + 1.0\n",
    "            tll = t + expovariate(lamda) \n",
    "            if N == 1:\n",
    "                ts = t + expovariate(mu)\n",
    "        else:                                         # Evento de salida\n",
    "            t = ts\n",
    "\n",
    "            # Longitud del intervalo de tiempo **************************************************************************\n",
    "            delta = t - t_evento_anterior\n",
    "            if N in Data:\n",
    "                Data[N] += delta\n",
    "            else:\n",
    "                Data[N] = delta\n",
    "            t_evento_anterior = t\n",
    "\n",
    "            ts_Data.append(t)\n",
    "            N = N - 1.0\n",
    "            count = count + 1                         # Paquetes simulados\n",
    "            if N > 0:\n",
    "                ts = t + expovariate(mu)\n",
    "            else:\n",
    "                ts = Infinity\n",
    "\n",
    "    ##################################### se procesan los datos de salida ########################################\n",
    "\n",
    "    # Estimación del retraso promedio:\n",
    "\n",
    "    for i in range(Num_Pkts):\n",
    "    #for i in range(T):\n",
    "        d = ts_Data[i] - tll_Data[i]\n",
    "        r_Data.append(d)\n",
    "\n",
    "    # Estimación de la probabilidad de P(N=k):\n",
    "    for (key, value) in Data.items():\n",
    "        Data[key] = value/t\n",
    "    \n",
    "    return k, Data[k]\n"
   ]
  },
  {
   "cell_type": "markdown",
   "id": "0a8c41ce",
   "metadata": {},
   "source": [
    "## Instrucciones"
   ]
  },
  {
   "cell_type": "markdown",
   "id": "1dcc77d3",
   "metadata": {},
   "source": [
    " Elabore esta tarea en una notebook independiente, registrando sus resultados o las salidas de los programas. En todos los casos en que sea posible resuelva los problemas mediante simulació y después verifique los resultados con las fórmulas correspondientes."
   ]
  },
  {
   "cell_type": "markdown",
   "id": "cdc53b24",
   "metadata": {},
   "source": [
    "### 1. En la biblioteca\n",
    "\n",
    "Un encargado de la biblioteca es el único en el mostrador durante todo su turno de trabajo. Las llegadas al mostrador siguen una distribución de Poisson con una media de 8 por hora. Cada usuario de la biblioteca es atendido de uno en uno, y el tiempo de servicio sigue una distribución exponencial con una media de 5 minutos.\n",
    "\n",
    "a) ¿Cuál es la probabilidad de que se forme cola?\n",
    "\n",
    "b) ¿Cuál es la longitud media de la cola?\n",
    "\n",
    "c) ¿Cuál es el tiempo medio que un cliente pasa en la biblioteca hasta que le han atendido?\n",
    "\n",
    "d) ¿Cuál es el tiempo medio que un cliente pasa en la cola esperando a que le atiendan?\n",
    "\n",
    "e) El encargado de la biblioteca pasa su tiempo en que no hay clientes clasificando artículos de revistas. Si puede clasificar 22 fichas por hora como media cuando trabaja continuamente, ¿cuántas fichas puede ordenar durante su trabajo?"
   ]
  },
  {
   "cell_type": "markdown",
   "id": "b1eeea59",
   "metadata": {},
   "source": [
    "Solución:\n",
    "\n",
    "de la siguiente expreción despejamos $ W_q $ para obtener el tiempo medio que un cliente pasa en la cola:\n",
    "\n",
    "$  W = W_q + \\frac{1}{\\mu} $\n",
    "\n",
    "asi \n",
    "\n",
    " $  W_q= W + \\frac{1}{\\mu} $\n",
    " \n",
    "Para la longitud media de la cola utilizamos la siguiente relación:\n",
    "\n",
    "$ L_q = \\lambda W_q $"
   ]
  },
  {
   "cell_type": "code",
   "execution_count": 22,
   "id": "3e951a78",
   "metadata": {},
   "outputs": [
    {
     "name": "stdout",
     "output_type": "stream",
     "text": [
      "a) La probabilidad de que se forme una cola es: 0.6671\n",
      "b) La longitud media de la cola es: 2.6739\n",
      "c) El tiempo medio que un cliente pasa en la biblioteca es : 0.2509\n",
      "d) El tiempo medio que un cliente pasa en la cola es: 0.3342\n",
      "e) El numero de fichas que puede ordenar durante un dia de trabajo suponiendo una jornada de 8 hrs. es: 59\n"
     ]
    }
   ],
   "source": [
    "s=WL(8,12)\n",
    "p_p=P(8,12,0)\n",
    "lamda=8\n",
    "mu=12\n",
    "print('a) La probabilidad de que se forme una cola es:', round(1-p_p[1], 4))\n",
    "print('b) La longitud media de la cola es:', round(lamda*(s[0]+1/mu), 4))\n",
    "print('c) El tiempo medio que un cliente pasa en la biblioteca es :', s[0])\n",
    "print('d) El tiempo medio que un cliente pasa en la cola es:', round(s[0]+1/mu, 4))\n",
    "print('e) El numero de fichas que puede ordenar durante un dia de trabajo suponiendo una jornada de 8 hrs. es:', round(p_p[1]*22*8))\n"
   ]
  },
  {
   "cell_type": "markdown",
   "id": "bbde3241",
   "metadata": {},
   "source": [
    "### 2. Lavado de autos \n",
    "\n",
    "Un pequeño autoservicio de lavado que solo tienen capacidad para atender de uno en uno a los autos que llegan, tiene un aparcamiento para 10 coches, incluyendo el que está siendo lavado. La empresa ha estimado que los coches llegan siguiendo una distribución de Poisson con una media de 20 coches/hora, el tiempo de servicio sigue una distribución exponencial de 12 minutos. La empresa abre durante 10 horas al día.\n",
    "\n",
    "¿Cuál es la media de coches perdidos cada día debido a las limitaciones de espacio?"
   ]
  },
  {
   "cell_type": "code",
   "execution_count": 49,
   "id": "e68f4530",
   "metadata": {},
   "outputs": [
    {
     "name": "stdout",
     "output_type": "stream",
     "text": [
      "el numero de coches perdidos es: 189\n"
     ]
    }
   ],
   "source": [
    "from random import expovariate\n",
    "from math import inf as Infinity\n",
    "\n",
    "tpll = 20                      # Tiempo de inter arrivo promedio\n",
    "tps = 5                       # Tiempo de servicio promedio\n",
    "T = 10                       # Tiempo total de la simulación\n",
    "t = 0                         # Tiempo de simulación actual\n",
    "\n",
    "N = 0                           # Variable de estado: número de clientes en el sistema\n",
    "\n",
    "# Hora de arrivo del siguiente evento\n",
    "\n",
    "T_arrivo = expovariate(1.0/tpll)\n",
    "\n",
    "# Hora del próximo evento de salida\n",
    "\n",
    "T_salida = Infinity\n",
    "Ln=[]\n",
    "\n",
    "while t <= T:\n",
    "    tll = expovariate(1.0/tpll)\n",
    "    ts = expovariate(1.0/tps)\n",
    "    if tll < ts:\n",
    "        N += 1\n",
    "        t = t + tll\n",
    "    \n",
    "    else:\n",
    "        if N > 0:\n",
    "            N -= 1\n",
    "            t = t + ts\n",
    "    if tll<ts and N>10:\n",
    "        ln.append(1)\n",
    "\n",
    "print('el numero de coches perdidos es:', sum(ln))\n"
   ]
  },
  {
   "cell_type": "markdown",
   "id": "5b075642",
   "metadata": {},
   "source": [
    "### 3. John Macko \n",
    "\n",
    "John Macko es alumno en la U de Ozark. Hace trabajos extraños para aumentar sus ingresos. Las peticiones de trabajo llegan en promedio cada 5 días, pero el tiempo entre ellas es exponencial. El tiempo para terminar un trabajo también es exponencial, con una media de 4 días.\n",
    "\n",
    "a) ¿Cuál es la probabilidad de que le falte trabajo a John?\n",
    "\n",
    "b) Si John cobra unos $50 por cada trabajo, ¿cuál es su ingreso mensual promedio?\n",
    "\n",
    "c) Si al final del semestre John decide subcontratar los trabajos pendientes a $40 cada uno, ¿cuánto debe esperar pagar en promedio?"
   ]
  },
  {
   "cell_type": "code",
   "execution_count": 51,
   "id": "97f1f668",
   "metadata": {},
   "outputs": [
    {
     "name": "stdout",
     "output_type": "stream",
     "text": [
      "a) la probabilidad de que le falte trabajo es: 0.1973\n",
      "b) su ingreso mensual promedio es: 204.205\n"
     ]
    }
   ],
   "source": [
    "p_p=P(1/5,1/4,0)\n",
    "print('a) la probabilidad de que le falte trabajo es:', round(p_p[1],4))\n",
    "L=WL(1/5,1/4)\n",
    "print('b) su ingreso mensual promedio es:', L[1]*50)"
   ]
  },
  {
   "cell_type": "code",
   "execution_count": null,
   "id": "41561d1a",
   "metadata": {},
   "outputs": [],
   "source": []
  }
 ],
 "metadata": {
  "kernelspec": {
   "display_name": "Python 3 (ipykernel)",
   "language": "python",
   "name": "python3"
  },
  "language_info": {
   "codemirror_mode": {
    "name": "ipython",
    "version": 3
   },
   "file_extension": ".py",
   "mimetype": "text/x-python",
   "name": "python",
   "nbconvert_exporter": "python",
   "pygments_lexer": "ipython3",
   "version": "3.9.8"
  }
 },
 "nbformat": 4,
 "nbformat_minor": 5
}
